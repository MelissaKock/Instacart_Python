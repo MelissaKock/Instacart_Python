{
 "cells": [
  {
   "cell_type": "markdown",
   "id": "a7cf1899",
   "metadata": {},
   "source": [
    "# Importing"
   ]
  },
  {
   "cell_type": "code",
   "execution_count": 1,
   "id": "08c470ca",
   "metadata": {},
   "outputs": [],
   "source": [
    "# Importing\n",
    "\n",
    "import pandas as pd\n",
    "import numpy as np\n",
    "import os"
   ]
  },
  {
   "cell_type": "code",
   "execution_count": 2,
   "id": "7f0cba66",
   "metadata": {},
   "outputs": [
    {
     "name": "stdout",
     "output_type": "stream",
     "text": [
      "\n",
      "Note: you may need to restart the kernel to use updated packages.\n"
     ]
    }
   ],
   "source": [
    "conda install seaborn matplotlib scipy"
   ]
  },
  {
   "cell_type": "code",
   "execution_count": 3,
   "id": "db3139b2",
   "metadata": {},
   "outputs": [],
   "source": [
    "import pandas as pd\n",
    "import numpy as np\n",
    "import os\n",
    "import matplotlib.pyplot as plt\n",
    "import seaborn as sns\n",
    "import scipy"
   ]
  },
  {
   "cell_type": "code",
   "execution_count": 4,
   "id": "13caadb2",
   "metadata": {},
   "outputs": [],
   "source": [
    "# Import Products Data\n",
    "\n",
    "path = r'C:\\Users\\mkock\\Desktop\\Data Analytics\\Data Immersion\\Achievement 4\\22-03-2022 Instacart Basket Analysis'\n",
    "\n",
    "ords_prods_merge = pd.read_pickle(os.path.join(path, '02 Data', 'Prepared Data', '4.8_ords_prods_merge.pkl'))"
   ]
  },
  {
   "cell_type": "markdown",
   "id": "cee60850",
   "metadata": {},
   "source": [
    "# Creating Bar Charts"
   ]
  },
  {
   "cell_type": "code",
   "execution_count": 5,
   "id": "c72329fb",
   "metadata": {},
   "outputs": [
    {
     "data": {
      "text/plain": [
       "<AxesSubplot:>"
      ]
     },
     "execution_count": 5,
     "metadata": {},
     "output_type": "execute_result"
    },
    {
     "data": {
      "image/png": "[encoded data removed]",
      "text/plain": [
       "<Figure size 432x288 with 1 Axes>"
      ]
     },
     "metadata": {
      "needs_background": "light"
     },
     "output_type": "display_data"
    }
   ],
   "source": [
    "ords_prods_merge['order_dow'].value_counts().plot.bar()"
   ]
  },
  {
   "cell_type": "code",
   "execution_count": 6,
   "id": "63406197",
   "metadata": {},
   "outputs": [
    {
     "data": {
      "image/png": "[encoded data removed]",
      "text/plain": [
       "<Figure size 432x288 with 1 Axes>"
      ]
     },
     "metadata": {
      "needs_background": "light"
     },
     "output_type": "display_data"
    }
   ],
   "source": [
    "bar = ords_prods_merge['order_dow'].value_counts().plot.bar(color =['purple', 'red', 'pink', 'orange', 'yellow', 'green', 'blue'])"
   ]
  },
  {
   "cell_type": "code",
   "execution_count": 7,
   "id": "62bb80ba",
   "metadata": {},
   "outputs": [],
   "source": [
    "bar.figure.savefig(os.path.join(path, '04 Analysis','Visualizations', 'bar_orders_dow.png'))"
   ]
  },
  {
   "cell_type": "markdown",
   "id": "187a965f",
   "metadata": {},
   "source": [
    "# Creating Histograms and Scatterplots"
   ]
  },
  {
   "cell_type": "code",
   "execution_count": 8,
   "id": "254e2065",
   "metadata": {},
   "outputs": [
    {
     "data": {
      "text/plain": [
       "<AxesSubplot:ylabel='Frequency'>"
      ]
     },
     "execution_count": 8,
     "metadata": {},
     "output_type": "execute_result"
    },
    {
     "data": {
      "image/png": "[encoded data removed]",
      "text/plain": [
       "<Figure size 432x288 with 1 Axes>"
      ]
     },
     "metadata": {
      "needs_background": "light"
     },
     "output_type": "display_data"
    }
   ],
   "source": [
    "ords_prods_merge['prices'].plot.hist(bins = 25)"
   ]
  },
  {
   "cell_type": "code",
   "execution_count": 9,
   "id": "d3b17578",
   "metadata": {},
   "outputs": [
    {
     "data": {
      "text/plain": [
       "<AxesSubplot:xlabel='prices', ylabel='prices'>"
      ]
     },
     "execution_count": 9,
     "metadata": {},
     "output_type": "execute_result"
    },
    {
     "data": {
      "image/png": "[encoded data removed]",
      "text/plain": [
       "<Figure size 432x288 with 1 Axes>"
      ]
     },
     "metadata": {
      "needs_background": "light"
     },
     "output_type": "display_data"
    }
   ],
   "source": [
    "sns.scatterplot(x = 'prices', y = 'prices',data = ords_prods_merge)"
   ]
  },
  {
   "cell_type": "code",
   "execution_count": 10,
   "id": "72a8fdbf",
   "metadata": {},
   "outputs": [
    {
     "data": {
      "text/html": [
       "<div>\n",
       "<style scoped>\n",
       "    .dataframe tbody tr th:only-of-type {\n",
       "        vertical-align: middle;\n",
       "    }\n",
       "\n",
       "    .dataframe tbody tr th {\n",
       "        vertical-align: top;\n",
       "    }\n",
       "\n",
       "    .dataframe thead th {\n",
       "        text-align: right;\n",
       "    }\n",
       "</style>\n",
       "<table border=\"1\" class=\"dataframe\">\n",
       "  <thead>\n",
       "    <tr style=\"text-align: right;\">\n",
       "      <th></th>\n",
       "      <th>order_id</th>\n",
       "      <th>user_id</th>\n",
       "      <th>eval_set</th>\n",
       "      <th>order_number</th>\n",
       "      <th>order_dow</th>\n",
       "      <th>order_hour_of_day</th>\n",
       "      <th>days_since_prior_order</th>\n",
       "      <th>product_id</th>\n",
       "      <th>add_to_cart_order</th>\n",
       "      <th>reordered</th>\n",
       "      <th>...</th>\n",
       "      <th>price_range_loc</th>\n",
       "      <th>busiest_day</th>\n",
       "      <th>Busiest day</th>\n",
       "      <th>busiest_period_of_day</th>\n",
       "      <th>max_order</th>\n",
       "      <th>loyalty_flag</th>\n",
       "      <th>spending</th>\n",
       "      <th>spending_flag</th>\n",
       "      <th>frequency</th>\n",
       "      <th>frequency_flag</th>\n",
       "    </tr>\n",
       "  </thead>\n",
       "  <tbody>\n",
       "    <tr>\n",
       "      <th>10030345</th>\n",
       "      <td>912404</td>\n",
       "      <td>17</td>\n",
       "      <td>prior</td>\n",
       "      <td>12</td>\n",
       "      <td>2</td>\n",
       "      <td>14</td>\n",
       "      <td>5.0</td>\n",
       "      <td>21553</td>\n",
       "      <td>5</td>\n",
       "      <td>0</td>\n",
       "      <td>...</td>\n",
       "      <td>High-range product</td>\n",
       "      <td>Regularly busy</td>\n",
       "      <td>Regularly busy</td>\n",
       "      <td>Most_orders</td>\n",
       "      <td>40</td>\n",
       "      <td>Regular customer</td>\n",
       "      <td>108.648299</td>\n",
       "      <td>High Spender</td>\n",
       "      <td>5.0</td>\n",
       "      <td>Frequent customer</td>\n",
       "    </tr>\n",
       "    <tr>\n",
       "      <th>10030346</th>\n",
       "      <td>603376</td>\n",
       "      <td>17</td>\n",
       "      <td>prior</td>\n",
       "      <td>22</td>\n",
       "      <td>6</td>\n",
       "      <td>16</td>\n",
       "      <td>4.0</td>\n",
       "      <td>21553</td>\n",
       "      <td>3</td>\n",
       "      <td>1</td>\n",
       "      <td>...</td>\n",
       "      <td>High-range product</td>\n",
       "      <td>Regularly busy</td>\n",
       "      <td>Regularly busy</td>\n",
       "      <td>Most_orders</td>\n",
       "      <td>40</td>\n",
       "      <td>Regular customer</td>\n",
       "      <td>108.648299</td>\n",
       "      <td>High Spender</td>\n",
       "      <td>5.0</td>\n",
       "      <td>Frequent customer</td>\n",
       "    </tr>\n",
       "    <tr>\n",
       "      <th>10030347</th>\n",
       "      <td>3264360</td>\n",
       "      <td>135</td>\n",
       "      <td>prior</td>\n",
       "      <td>2</td>\n",
       "      <td>2</td>\n",
       "      <td>21</td>\n",
       "      <td>13.0</td>\n",
       "      <td>21553</td>\n",
       "      <td>6</td>\n",
       "      <td>0</td>\n",
       "      <td>...</td>\n",
       "      <td>High-range product</td>\n",
       "      <td>Regularly busy</td>\n",
       "      <td>Regularly busy</td>\n",
       "      <td>Most_orders</td>\n",
       "      <td>4</td>\n",
       "      <td>New customer</td>\n",
       "      <td>1154.792308</td>\n",
       "      <td>High Spender</td>\n",
       "      <td>11.5</td>\n",
       "      <td>Regular customer</td>\n",
       "    </tr>\n",
       "    <tr>\n",
       "      <th>10030348</th>\n",
       "      <td>892534</td>\n",
       "      <td>135</td>\n",
       "      <td>prior</td>\n",
       "      <td>3</td>\n",
       "      <td>0</td>\n",
       "      <td>8</td>\n",
       "      <td>12.0</td>\n",
       "      <td>21553</td>\n",
       "      <td>3</td>\n",
       "      <td>1</td>\n",
       "      <td>...</td>\n",
       "      <td>High-range product</td>\n",
       "      <td>Busiest day</td>\n",
       "      <td>Busiest days</td>\n",
       "      <td>Average_orders</td>\n",
       "      <td>4</td>\n",
       "      <td>New customer</td>\n",
       "      <td>1154.792308</td>\n",
       "      <td>High Spender</td>\n",
       "      <td>11.5</td>\n",
       "      <td>Regular customer</td>\n",
       "    </tr>\n",
       "    <tr>\n",
       "      <th>10030349</th>\n",
       "      <td>229704</td>\n",
       "      <td>342</td>\n",
       "      <td>prior</td>\n",
       "      <td>8</td>\n",
       "      <td>1</td>\n",
       "      <td>19</td>\n",
       "      <td>30.0</td>\n",
       "      <td>21553</td>\n",
       "      <td>9</td>\n",
       "      <td>0</td>\n",
       "      <td>...</td>\n",
       "      <td>High-range product</td>\n",
       "      <td>Regularly busy</td>\n",
       "      <td>Busiest days</td>\n",
       "      <td>Most_orders</td>\n",
       "      <td>16</td>\n",
       "      <td>Regular customer</td>\n",
       "      <td>114.426619</td>\n",
       "      <td>High Spender</td>\n",
       "      <td>20.0</td>\n",
       "      <td>Regular customer</td>\n",
       "    </tr>\n",
       "    <tr>\n",
       "      <th>...</th>\n",
       "      <td>...</td>\n",
       "      <td>...</td>\n",
       "      <td>...</td>\n",
       "      <td>...</td>\n",
       "      <td>...</td>\n",
       "      <td>...</td>\n",
       "      <td>...</td>\n",
       "      <td>...</td>\n",
       "      <td>...</td>\n",
       "      <td>...</td>\n",
       "      <td>...</td>\n",
       "      <td>...</td>\n",
       "      <td>...</td>\n",
       "      <td>...</td>\n",
       "      <td>...</td>\n",
       "      <td>...</td>\n",
       "      <td>...</td>\n",
       "      <td>...</td>\n",
       "      <td>...</td>\n",
       "      <td>...</td>\n",
       "      <td>...</td>\n",
       "    </tr>\n",
       "    <tr>\n",
       "      <th>29166209</th>\n",
       "      <td>2249946</td>\n",
       "      <td>204099</td>\n",
       "      <td>prior</td>\n",
       "      <td>29</td>\n",
       "      <td>0</td>\n",
       "      <td>8</td>\n",
       "      <td>4.0</td>\n",
       "      <td>33664</td>\n",
       "      <td>1</td>\n",
       "      <td>0</td>\n",
       "      <td>...</td>\n",
       "      <td>High-range product</td>\n",
       "      <td>Busiest day</td>\n",
       "      <td>Busiest days</td>\n",
       "      <td>Average_orders</td>\n",
       "      <td>39</td>\n",
       "      <td>Regular customer</td>\n",
       "      <td>1106.743956</td>\n",
       "      <td>High Spender</td>\n",
       "      <td>4.0</td>\n",
       "      <td>Frequent customer</td>\n",
       "    </tr>\n",
       "    <tr>\n",
       "      <th>29166210</th>\n",
       "      <td>2363282</td>\n",
       "      <td>204099</td>\n",
       "      <td>prior</td>\n",
       "      <td>31</td>\n",
       "      <td>0</td>\n",
       "      <td>9</td>\n",
       "      <td>2.0</td>\n",
       "      <td>33664</td>\n",
       "      <td>1</td>\n",
       "      <td>1</td>\n",
       "      <td>...</td>\n",
       "      <td>High-range product</td>\n",
       "      <td>Busiest day</td>\n",
       "      <td>Busiest days</td>\n",
       "      <td>Most_orders</td>\n",
       "      <td>39</td>\n",
       "      <td>Regular customer</td>\n",
       "      <td>1106.743956</td>\n",
       "      <td>High Spender</td>\n",
       "      <td>4.0</td>\n",
       "      <td>Frequent customer</td>\n",
       "    </tr>\n",
       "    <tr>\n",
       "      <th>29166211</th>\n",
       "      <td>3181945</td>\n",
       "      <td>204395</td>\n",
       "      <td>prior</td>\n",
       "      <td>13</td>\n",
       "      <td>3</td>\n",
       "      <td>15</td>\n",
       "      <td>8.0</td>\n",
       "      <td>33664</td>\n",
       "      <td>25</td>\n",
       "      <td>0</td>\n",
       "      <td>...</td>\n",
       "      <td>High-range product</td>\n",
       "      <td>Regularly busy</td>\n",
       "      <td>Slowest days</td>\n",
       "      <td>Most_orders</td>\n",
       "      <td>15</td>\n",
       "      <td>Regular customer</td>\n",
       "      <td>451.153540</td>\n",
       "      <td>High Spender</td>\n",
       "      <td>4.0</td>\n",
       "      <td>Frequent customer</td>\n",
       "    </tr>\n",
       "    <tr>\n",
       "      <th>29166212</th>\n",
       "      <td>2486215</td>\n",
       "      <td>205227</td>\n",
       "      <td>prior</td>\n",
       "      <td>7</td>\n",
       "      <td>3</td>\n",
       "      <td>20</td>\n",
       "      <td>4.0</td>\n",
       "      <td>33664</td>\n",
       "      <td>8</td>\n",
       "      <td>0</td>\n",
       "      <td>...</td>\n",
       "      <td>High-range product</td>\n",
       "      <td>Regularly busy</td>\n",
       "      <td>Slowest days</td>\n",
       "      <td>Most_orders</td>\n",
       "      <td>12</td>\n",
       "      <td>Regular customer</td>\n",
       "      <td>1178.381871</td>\n",
       "      <td>High Spender</td>\n",
       "      <td>7.0</td>\n",
       "      <td>Frequent customer</td>\n",
       "    </tr>\n",
       "    <tr>\n",
       "      <th>29166213</th>\n",
       "      <td>2232716</td>\n",
       "      <td>205227</td>\n",
       "      <td>prior</td>\n",
       "      <td>10</td>\n",
       "      <td>0</td>\n",
       "      <td>11</td>\n",
       "      <td>4.0</td>\n",
       "      <td>33664</td>\n",
       "      <td>23</td>\n",
       "      <td>1</td>\n",
       "      <td>...</td>\n",
       "      <td>High-range product</td>\n",
       "      <td>Busiest day</td>\n",
       "      <td>Busiest days</td>\n",
       "      <td>Most_orders</td>\n",
       "      <td>12</td>\n",
       "      <td>Regular customer</td>\n",
       "      <td>1178.381871</td>\n",
       "      <td>High Spender</td>\n",
       "      <td>7.0</td>\n",
       "      <td>Frequent customer</td>\n",
       "    </tr>\n",
       "  </tbody>\n",
       "</table>\n",
       "<p>5127 rows × 25 columns</p>\n",
       "</div>"
      ],
      "text/plain": [
       "          order_id  user_id eval_set  order_number  order_dow  \\\n",
       "10030345    912404       17    prior            12          2   \n",
       "10030346    603376       17    prior            22          6   \n",
       "10030347   3264360      135    prior             2          2   \n",
       "10030348    892534      135    prior             3          0   \n",
       "10030349    229704      342    prior             8          1   \n",
       "...            ...      ...      ...           ...        ...   \n",
       "29166209   2249946   204099    prior            29          0   \n",
       "29166210   2363282   204099    prior            31          0   \n",
       "29166211   3181945   204395    prior            13          3   \n",
       "29166212   2486215   205227    prior             7          3   \n",
       "29166213   2232716   205227    prior            10          0   \n",
       "\n",
       "          order_hour_of_day  days_since_prior_order  product_id  \\\n",
       "10030345                 14                     5.0       21553   \n",
       "10030346                 16                     4.0       21553   \n",
       "10030347                 21                    13.0       21553   \n",
       "10030348                  8                    12.0       21553   \n",
       "10030349                 19                    30.0       21553   \n",
       "...                     ...                     ...         ...   \n",
       "29166209                  8                     4.0       33664   \n",
       "29166210                  9                     2.0       33664   \n",
       "29166211                 15                     8.0       33664   \n",
       "29166212                 20                     4.0       33664   \n",
       "29166213                 11                     4.0       33664   \n",
       "\n",
       "          add_to_cart_order  reordered  ...     price_range_loc  \\\n",
       "10030345                  5          0  ...  High-range product   \n",
       "10030346                  3          1  ...  High-range product   \n",
       "10030347                  6          0  ...  High-range product   \n",
       "10030348                  3          1  ...  High-range product   \n",
       "10030349                  9          0  ...  High-range product   \n",
       "...                     ...        ...  ...                 ...   \n",
       "29166209                  1          0  ...  High-range product   \n",
       "29166210                  1          1  ...  High-range product   \n",
       "29166211                 25          0  ...  High-range product   \n",
       "29166212                  8          0  ...  High-range product   \n",
       "29166213                 23          1  ...  High-range product   \n",
       "\n",
       "             busiest_day     Busiest day  busiest_period_of_day max_order  \\\n",
       "10030345  Regularly busy  Regularly busy            Most_orders        40   \n",
       "10030346  Regularly busy  Regularly busy            Most_orders        40   \n",
       "10030347  Regularly busy  Regularly busy            Most_orders         4   \n",
       "10030348     Busiest day    Busiest days         Average_orders         4   \n",
       "10030349  Regularly busy    Busiest days            Most_orders        16   \n",
       "...                  ...             ...                    ...       ...   \n",
       "29166209     Busiest day    Busiest days         Average_orders        39   \n",
       "29166210     Busiest day    Busiest days            Most_orders        39   \n",
       "29166211  Regularly busy    Slowest days            Most_orders        15   \n",
       "29166212  Regularly busy    Slowest days            Most_orders        12   \n",
       "29166213     Busiest day    Busiest days            Most_orders        12   \n",
       "\n",
       "              loyalty_flag     spending spending_flag frequency  \\\n",
       "10030345  Regular customer   108.648299  High Spender       5.0   \n",
       "10030346  Regular customer   108.648299  High Spender       5.0   \n",
       "10030347      New customer  1154.792308  High Spender      11.5   \n",
       "10030348      New customer  1154.792308  High Spender      11.5   \n",
       "10030349  Regular customer   114.426619  High Spender      20.0   \n",
       "...                    ...          ...           ...       ...   \n",
       "29166209  Regular customer  1106.743956  High Spender       4.0   \n",
       "29166210  Regular customer  1106.743956  High Spender       4.0   \n",
       "29166211  Regular customer   451.153540  High Spender       4.0   \n",
       "29166212  Regular customer  1178.381871  High Spender       7.0   \n",
       "29166213  Regular customer  1178.381871  High Spender       7.0   \n",
       "\n",
       "             frequency_flag  \n",
       "10030345  Frequent customer  \n",
       "10030346  Frequent customer  \n",
       "10030347   Regular customer  \n",
       "10030348   Regular customer  \n",
       "10030349   Regular customer  \n",
       "...                     ...  \n",
       "29166209  Frequent customer  \n",
       "29166210  Frequent customer  \n",
       "29166211  Frequent customer  \n",
       "29166212  Frequent customer  \n",
       "29166213  Frequent customer  \n",
       "\n",
       "[5127 rows x 25 columns]"
      ]
     },
     "execution_count": 10,
     "metadata": {},
     "output_type": "execute_result"
    }
   ],
   "source": [
    "ords_prods_merge.loc[ords_prods_merge['prices'] > 100]"
   ]
  },
  {
   "cell_type": "code",
   "execution_count": 11,
   "id": "37cc4933",
   "metadata": {},
   "outputs": [],
   "source": [
    "ords_prods_merge.loc[ords_prods_merge['prices'] >100, 'prices'] = np.nan"
   ]
  },
  {
   "cell_type": "code",
   "execution_count": 12,
   "id": "6bf30bbd",
   "metadata": {},
   "outputs": [
    {
     "data": {
      "text/plain": [
       "25.0"
      ]
     },
     "execution_count": 12,
     "metadata": {},
     "output_type": "execute_result"
    }
   ],
   "source": [
    "ords_prods_merge['prices'].max()"
   ]
  },
  {
   "cell_type": "code",
   "execution_count": 13,
   "id": "49ab5ef6",
   "metadata": {},
   "outputs": [
    {
     "data": {
      "image/png": "[encoded data removed]",
      "text/plain": [
       "<Figure size 432x288 with 1 Axes>"
      ]
     },
     "metadata": {
      "needs_background": "light"
     },
     "output_type": "display_data"
    }
   ],
   "source": [
    "hist = ords_prods_merge['prices'].plot.hist(bins = 25)"
   ]
  },
  {
   "cell_type": "code",
   "execution_count": 14,
   "id": "e600dbc8",
   "metadata": {},
   "outputs": [
    {
     "data": {
      "image/png": "[encoded data removed]",
      "text/plain": [
       "<Figure size 432x288 with 1 Axes>"
      ]
     },
     "metadata": {
      "needs_background": "light"
     },
     "output_type": "display_data"
    }
   ],
   "source": [
    "hist_2 = ords_prods_merge['prices'].plot.hist(bins = 70)"
   ]
  },
  {
   "cell_type": "markdown",
   "id": "5182da5e",
   "metadata": {},
   "source": [
    "# Sampling Data"
   ]
  },
  {
   "cell_type": "code",
   "execution_count": 15,
   "id": "ff3033f0",
   "metadata": {},
   "outputs": [],
   "source": [
    "np.random.seed(4)\n",
    "dev = np.random.rand(len(ords_prods_merge)) <= 0.7"
   ]
  },
  {
   "cell_type": "code",
   "execution_count": 16,
   "id": "280ac29a",
   "metadata": {},
   "outputs": [
    {
     "data": {
      "text/plain": [
       "array([False,  True, False, ...,  True,  True,  True])"
      ]
     },
     "execution_count": 16,
     "metadata": {},
     "output_type": "execute_result"
    }
   ],
   "source": [
    "dev"
   ]
  },
  {
   "cell_type": "code",
   "execution_count": 17,
   "id": "c55f9d02",
   "metadata": {},
   "outputs": [],
   "source": [
    "big = ords_prods_merge[dev]"
   ]
  },
  {
   "cell_type": "code",
   "execution_count": 18,
   "id": "7185fb0e",
   "metadata": {},
   "outputs": [],
   "source": [
    "small = ords_prods_merge[~dev]"
   ]
  },
  {
   "cell_type": "code",
   "execution_count": 19,
   "id": "d249da65",
   "metadata": {},
   "outputs": [
    {
     "data": {
      "text/plain": [
       "32404859"
      ]
     },
     "execution_count": 19,
     "metadata": {},
     "output_type": "execute_result"
    }
   ],
   "source": [
    "len(ords_prods_merge)"
   ]
  },
  {
   "cell_type": "code",
   "execution_count": 20,
   "id": "30d2ba25",
   "metadata": {},
   "outputs": [
    {
     "data": {
      "text/plain": [
       "32404859"
      ]
     },
     "execution_count": 20,
     "metadata": {},
     "output_type": "execute_result"
    }
   ],
   "source": [
    "len(big) + len(small)"
   ]
  },
  {
   "cell_type": "code",
   "execution_count": 22,
   "id": "7f373324",
   "metadata": {},
   "outputs": [],
   "source": [
    "df_2 = small[['order_dow','prices']]"
   ]
  },
  {
   "cell_type": "code",
   "execution_count": 23,
   "id": "54c29849",
   "metadata": {},
   "outputs": [
    {
     "data": {
      "image/png": "[encoded data removed]",
      "text/plain": [
       "<Figure size 432x288 with 1 Axes>"
      ]
     },
     "metadata": {
      "needs_background": "light"
     },
     "output_type": "display_data"
    }
   ],
   "source": [
    "line = sns.lineplot(data = df_2, x = 'order_dow',y = 'prices')"
   ]
  },
  {
   "cell_type": "code",
   "execution_count": 24,
   "id": "edddec2c",
   "metadata": {},
   "outputs": [],
   "source": [
    "df_4 = ords_prods_merge[['order_dow','prices']]"
   ]
  },
  {
   "cell_type": "code",
   "execution_count": null,
   "id": "5dd63eaa",
   "metadata": {},
   "outputs": [],
   "source": [
    "line_2 = sns.lineplot(data = df_4, x='order_dow',y='prices')"
   ]
  },
  {
   "cell_type": "code",
   "execution_count": null,
   "id": "714b9d1a",
   "metadata": {},
   "outputs": [],
   "source": []
  }
 ],
 "metadata": {
  "kernelspec": {
   "display_name": "Python 3 (ipykernel)",
   "language": "python",
   "name": "python3"
  },
  "language_info": {
   "codemirror_mode": {
    "name": "ipython",
    "version": 3
   },
   "file_extension": ".py",
   "mimetype": "text/x-python",
   "name": "python",
   "nbconvert_exporter": "python",
   "pygments_lexer": "ipython3",
   "version": "3.9.7"
  }
 },
 "nbformat": 4,
 "nbformat_minor": 5
}
