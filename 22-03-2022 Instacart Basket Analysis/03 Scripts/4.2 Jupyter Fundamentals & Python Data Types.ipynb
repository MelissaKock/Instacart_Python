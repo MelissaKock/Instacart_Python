{
 "cells": [
  {
   "cell_type": "markdown",
   "id": "40559389",
   "metadata": {},
   "source": [
    "# 01 Importing Libraries"
   ]
  },
  {
   "cell_type": "code",
   "execution_count": 2,
   "id": "2dfc0d9e",
   "metadata": {},
   "outputs": [],
   "source": [
    "# Import libraries\n",
    "import pandas as pd\n",
    "import numpy as np\n",
    "import os"
   ]
  },
  {
   "cell_type": "markdown",
   "id": "18fc6878",
   "metadata": {},
   "source": [
    "# 02 Data Types"
   ]
  },
  {
   "cell_type": "code",
   "execution_count": 3,
   "id": "cfe69061",
   "metadata": {},
   "outputs": [],
   "source": [
    "# 01 - Result 100 \n",
    "x= (50+50)"
   ]
  },
  {
   "cell_type": "code",
   "execution_count": 4,
   "id": "825876f7",
   "metadata": {},
   "outputs": [
    {
     "data": {
      "text/plain": [
       "100"
      ]
     },
     "execution_count": 4,
     "metadata": {},
     "output_type": "execute_result"
    }
   ],
   "source": [
    "x"
   ]
  },
  {
   "cell_type": "code",
   "execution_count": 7,
   "id": "b223b784",
   "metadata": {},
   "outputs": [],
   "source": [
    "# 02 - Result 100\n",
    "y = (150-50)"
   ]
  },
  {
   "cell_type": "code",
   "execution_count": 8,
   "id": "1ddfc2de",
   "metadata": {},
   "outputs": [
    {
     "data": {
      "text/plain": [
       "100"
      ]
     },
     "execution_count": 8,
     "metadata": {},
     "output_type": "execute_result"
    }
   ],
   "source": [
    "y"
   ]
  },
  {
   "cell_type": "code",
   "execution_count": 10,
   "id": "b30428a0",
   "metadata": {},
   "outputs": [],
   "source": [
    "# 03 - Result 100\n",
    "z = (200-100)"
   ]
  },
  {
   "cell_type": "code",
   "execution_count": 11,
   "id": "b9e7e11f",
   "metadata": {},
   "outputs": [
    {
     "data": {
      "text/plain": [
       "100"
      ]
     },
     "execution_count": 11,
     "metadata": {},
     "output_type": "execute_result"
    }
   ],
   "source": [
    "z"
   ]
  },
  {
   "cell_type": "code",
   "execution_count": 12,
   "id": "4ea0b45c",
   "metadata": {},
   "outputs": [],
   "source": [
    "# Floating-point Variables\n",
    "a = (1.025)\n",
    "b = (2.098)\n",
    "\n",
    "c = (a/b)"
   ]
  },
  {
   "cell_type": "code",
   "execution_count": 13,
   "id": "bfe06fa9",
   "metadata": {},
   "outputs": [
    {
     "data": {
      "text/plain": [
       "0.488560533841754"
      ]
     },
     "execution_count": 13,
     "metadata": {},
     "output_type": "execute_result"
    }
   ],
   "source": [
    "c"
   ]
  },
  {
   "cell_type": "code",
   "execution_count": 17,
   "id": "2f8301e8",
   "metadata": {},
   "outputs": [],
   "source": [
    "# Strings\n",
    "d = 'pot'\n",
    "e = 'a'\n",
    "f = 'to'\n",
    "\n",
    "g = (d+e+f)"
   ]
  },
  {
   "cell_type": "code",
   "execution_count": 18,
   "id": "ca2eab33",
   "metadata": {},
   "outputs": [
    {
     "data": {
      "text/plain": [
       "'potato'"
      ]
     },
     "execution_count": 18,
     "metadata": {},
     "output_type": "execute_result"
    }
   ],
   "source": [
    "g"
   ]
  },
  {
   "cell_type": "code",
   "execution_count": 26,
   "id": "d6d19120",
   "metadata": {},
   "outputs": [],
   "source": [
    "# Sentence 01\n",
    "h = 'Hi, '\n",
    "i = 'i am '\n",
    "j = 'Melissa'\n",
    "\n",
    "k = h + ( i + j )"
   ]
  },
  {
   "cell_type": "code",
   "execution_count": 27,
   "id": "e1d1464f",
   "metadata": {},
   "outputs": [
    {
     "data": {
      "text/plain": [
       "'Hi, i am Melissa'"
      ]
     },
     "execution_count": 27,
     "metadata": {},
     "output_type": "execute_result"
    }
   ],
   "source": [
    "k"
   ]
  },
  {
   "cell_type": "code",
   "execution_count": 30,
   "id": "d7ddf4ac",
   "metadata": {},
   "outputs": [],
   "source": [
    "# Sentence 02\n",
    "l = 'How '\n",
    "m = 'are '\n",
    "n = 'you?'\n",
    "\n",
    "o = l+m+n"
   ]
  },
  {
   "cell_type": "code",
   "execution_count": 31,
   "id": "94d88a4e",
   "metadata": {},
   "outputs": [
    {
     "data": {
      "text/plain": [
       "'How are you?'"
      ]
     },
     "execution_count": 31,
     "metadata": {},
     "output_type": "execute_result"
    }
   ],
   "source": [
    "o"
   ]
  }
 ],
 "metadata": {
  "kernelspec": {
   "display_name": "Python 3 (ipykernel)",
   "language": "python",
   "name": "python3"
  },
  "language_info": {
   "codemirror_mode": {
    "name": "ipython",
    "version": 3
   },
   "file_extension": ".py",
   "mimetype": "text/x-python",
   "name": "python",
   "nbconvert_exporter": "python",
   "pygments_lexer": "ipython3",
   "version": "3.9.7"
  }
 },
 "nbformat": 4,
 "nbformat_minor": 5
}
